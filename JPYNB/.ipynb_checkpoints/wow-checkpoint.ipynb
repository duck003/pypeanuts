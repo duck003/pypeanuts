{
 "cells": [
  {
   "cell_type": "code",
   "execution_count": 7,
   "metadata": {},
   "outputs": [
    {
     "name": "stdout",
     "output_type": "stream",
     "text": [
      "How many pounds of pork do you want to eat?:0\n",
      "How many bottles of water do you need per day?:0\n",
      "How many gallons of water do you want in the bottle?:0\n",
      "['0', '0', '0']\n"
     ]
    }
   ],
   "source": [
    "list1 = []\n",
    "a = input (\"How many pounds of pork do you want to eat?:\")\n",
    "list1.append(a)\n",
    "a = input (\"How many bottles of water do you need per day?:\")\n",
    "list1.append(a)\n",
    "a = input (\"How many gallons of water do you want in the bottle?:\")\n",
    "list1.append(a)\n",
    "print(list1)\n"
   ]
  },
  {
   "cell_type": "code",
   "execution_count": 1,
   "metadata": {},
   "outputs": [
    {
     "name": "stdout",
     "output_type": "stream",
     "text": [
      "helloduck\n",
      "hellobear\n",
      "hellocat\n"
     ]
    }
   ],
   "source": [
    "names= [\"duck\",\"bear\",\"cat\"]\n",
    "for encounter in range (3):\n",
    "    print(\"hello\"+names[encounter])"
   ]
  },
  {
   "cell_type": "code",
   "execution_count": null,
   "metadata": {},
   "outputs": [],
   "source": []
  },
  {
   "cell_type": "code",
   "execution_count": null,
   "metadata": {},
   "outputs": [],
   "source": []
  }
 ],
 "metadata": {
  "kernelspec": {
   "display_name": "Python 3",
   "language": "python",
   "name": "python3"
  },
  "language_info": {
   "codemirror_mode": {
    "name": "ipython",
    "version": 3
   },
   "file_extension": ".py",
   "mimetype": "text/x-python",
   "name": "python",
   "nbconvert_exporter": "python",
   "pygments_lexer": "ipython3",
   "version": "3.8.3"
  }
 },
 "nbformat": 4,
 "nbformat_minor": 4
}
