{
 "cells": [
  {
   "cell_type": "markdown",
   "metadata": {},
   "source": [
    "# Lesson 10"
   ]
  },
  {
   "cell_type": "markdown",
   "metadata": {},
   "source": [
    "## Functions (Part 1)"
   ]
  },
  {
   "cell_type": "markdown",
   "metadata": {},
   "source": [
    "### Introduction"
   ]
  },
  {
   "cell_type": "markdown",
   "metadata": {},
   "source": [
    "Some functions that we have already seen,\n",
    "\n",
    "Python language builtin functions:\n",
    "- `len()`\n",
    "- `print()`\n",
    "- `input()`\n",
    "- `type()`\n",
    "- `range()`"
   ]
  },
  {
   "cell_type": "code",
   "execution_count": 17,
   "metadata": {},
   "outputs": [
    {
     "data": {
      "text/plain": [
       "3"
      ]
     },
     "execution_count": 17,
     "metadata": {},
     "output_type": "execute_result"
    }
   ],
   "source": [
    "my_list = [1,2,3]\n",
    "len(my_list)"
   ]
  },
  {
   "cell_type": "code",
   "execution_count": 18,
   "metadata": {},
   "outputs": [
    {
     "name": "stdout",
     "output_type": "stream",
     "text": [
      "hello world !\n",
      "hello world !\n"
     ]
    }
   ],
   "source": [
    "print(\"hello\", \"world\",\"!\")\n",
    "print(\"hello world !\")"
   ]
  },
  {
   "cell_type": "markdown",
   "metadata": {},
   "source": [
    "Python Module Functions\n",
    "- `random.randint()`\n",
    "- `random.shuffle()`"
   ]
  },
  {
   "cell_type": "code",
   "execution_count": 31,
   "metadata": {},
   "outputs": [],
   "source": [
    "import random\n",
    "? random.randint"
   ]
  },
  {
   "cell_type": "code",
   "execution_count": 29,
   "metadata": {},
   "outputs": [
    {
     "name": "stdout",
     "output_type": "stream",
     "text": [
      "5\n",
      "4\n",
      "5\n",
      "4\n",
      "4\n",
      "2\n",
      "4\n",
      "3\n",
      "5\n",
      "4\n"
     ]
    }
   ],
   "source": [
    "import random\n",
    "for i in range(10):\n",
    "    print(random.randint(0,5))"
   ]
  },
  {
   "cell_type": "markdown",
   "metadata": {},
   "source": [
    "- What makes up a function? \n",
    "- What are the common parts? \n",
    "- What might cause an error?\n",
    "\n",
    "---"
   ]
  },
  {
   "cell_type": "code",
   "execution_count": 1,
   "metadata": {},
   "outputs": [
    {
     "data": {
      "text/plain": [
       "5"
      ]
     },
     "execution_count": 1,
     "metadata": {},
     "output_type": "execute_result"
    }
   ],
   "source": [
    "import random\n",
    "random.randint(0,5)"
   ]
  },
  {
   "cell_type": "code",
   "execution_count": 2,
   "metadata": {},
   "outputs": [
    {
     "data": {
      "text/plain": [
       "1"
      ]
     },
     "execution_count": 2,
     "metadata": {},
     "output_type": "execute_result"
    }
   ],
   "source": [
    "len([6])"
   ]
  },
  {
   "cell_type": "markdown",
   "metadata": {},
   "source": [
    "### Parameters and Return Values\n",
    "Functions have inputs, called *parameters*, and an output called the *return value*.\n",
    "\n",
    "For example, $f(a,b) = a + b$ is a mathematical function. In Python we implement this function as follows."
   ]
  },
  {
   "cell_type": "code",
   "execution_count": 15,
   "metadata": {},
   "outputs": [
    {
     "data": {
      "text/plain": [
       "15"
      ]
     },
     "execution_count": 15,
     "metadata": {},
     "output_type": "execute_result"
    }
   ],
   "source": [
    "def my_sum(a, b):\n",
    "    return a + b\n",
    "\n",
    "my_sum(10, 5)"
   ]
  },
  {
   "cell_type": "markdown",
   "metadata": {},
   "source": [
    "### Exercise\n",
    "Write a function `my_product` that takes three parameters and returns their product i.e. $f(x,y,z) = x \\times y \\times z$.\n",
    "\n",
    "For example:\n",
    "```\n",
    "print(my_product(2,3,4))\n",
    "```\n",
    "should print out `24`"
   ]
  },
  {
   "cell_type": "code",
   "execution_count": 3,
   "metadata": {},
   "outputs": [
    {
     "name": "stdout",
     "output_type": "stream",
     "text": [
      "162\n"
     ]
    }
   ],
   "source": [
    "def my_product (q,w,e):\n",
    "    return q*w*e\n",
    "\n",
    "print(my_product(3,6,9))\n"
   ]
  },
  {
   "cell_type": "markdown",
   "metadata": {},
   "source": [
    "#### Extension 1\n",
    "Implement a function `my_list_product` that takes a list as a parameter and returns the product of all elements in the list."
   ]
  },
  {
   "cell_type": "code",
   "execution_count": 10,
   "metadata": {},
   "outputs": [
    {
     "name": "stdout",
     "output_type": "stream",
     "text": [
      "[1, 2, 3, 1, 2, 3]\n"
     ]
    }
   ],
   "source": [
    "def my_list_product(l0,x,y,z):\n",
    "    l0.append(x)\n",
    "    l0.append(y)\n",
    "    l0.append(z)\n",
    "    print(l0)\n",
    "my_list_product([1,2,3],1,2,3)"
   ]
  },
  {
   "cell_type": "markdown",
   "metadata": {},
   "source": [
    "#### Extension 2\n",
    "Implement a function `my_len` that takes a list as a parameter and returns the number of elements in the list."
   ]
  },
  {
   "cell_type": "code",
   "execution_count": 30,
   "metadata": {},
   "outputs": [
    {
     "data": {
      "text/plain": [
       "4"
      ]
     },
     "execution_count": 30,
     "metadata": {},
     "output_type": "execute_result"
    }
   ],
   "source": [
    "def my_len(l02):\n",
    "    x = 0    \n",
    "    for i in range(len(l02)):\n",
    "        x += 1\n",
    "    return x\n",
    "my_len([0,1,2,3])"
   ]
  },
  {
   "cell_type": "markdown",
   "metadata": {},
   "source": [
    "---\n",
    "---"
   ]
  },
  {
   "cell_type": "markdown",
   "metadata": {},
   "source": [
    "## Functions and Lists (Part 2)"
   ]
  },
  {
   "cell_type": "markdown",
   "metadata": {},
   "source": [
    "Recall the python keyword `in` used for testing list membership."
   ]
  },
  {
   "cell_type": "code",
   "execution_count": 37,
   "metadata": {},
   "outputs": [
    {
     "name": "stdout",
     "output_type": "stream",
     "text": [
      "False\n"
     ]
    }
   ],
   "source": [
    "my_list = [1,2,3,4]\n",
    "print(5 in my_list)"
   ]
  },
  {
   "cell_type": "markdown",
   "metadata": {},
   "source": [
    "How could we implement a function to test if an item is in a list?\n",
    "- How many parameters?\n",
    "- What is the return value type?"
   ]
  },
  {
   "cell_type": "code",
   "execution_count": null,
   "metadata": {},
   "outputs": [],
   "source": [
    "# implement together in class"
   ]
  },
  {
   "cell_type": "markdown",
   "metadata": {},
   "source": [
    "- Does this function always check every item in the list?\n",
    "- What if we switch the order of the parameters?"
   ]
  },
  {
   "cell_type": "markdown",
   "metadata": {},
   "source": [
    "### Exercise\n",
    "Write a function `is_not_in_list` that takes two parameters, a list of integers and a single integer, and returns True if the single integer is in the list and False otherwise. For example,\n",
    "```\n",
    "x = 7\n",
    "list_x = [1,2,3,4,5,6]\n",
    "if is_not_in_list(list_x, x):\n",
    "    print(x, \"is not in the list\")\n",
    "else:\n",
    "    print(x, \"is in the list\")\n",
    "```\n",
    "should print `7 is not in the list`. In your function implementation do not use the python keyword `in`. Iterate through the list."
   ]
  },
  {
   "cell_type": "code",
   "execution_count": 13,
   "metadata": {},
   "outputs": [
    {
     "name": "stdout",
     "output_type": "stream",
     "text": [
      "True\n"
     ]
    }
   ],
   "source": [
    "def is_not_in_list(l01,x):\n",
    "    for i in  range (len(l01)):\n",
    "        if x == l01[i]:\n",
    "            return False    \n",
    "    return True\n",
    "print(is_not_in_list([1,2,3,4,5,6],9))"
   ]
  },
  {
   "cell_type": "markdown",
   "metadata": {},
   "source": [
    "#### Extension 1\n",
    "Write a function `has_element_greater_than` that takes two parameters, a list of integers and a threshold value and returns True if there are any integers greater than the threshold and False otherwise.\n",
    "```\n",
    "list_x = [1,2,3,4,5,6]\n",
    "x = 6\n",
    "print(has_element_greater_than(x, list_x))\n",
    "```\n",
    "should print `False`. "
   ]
  },
  {
   "cell_type": "code",
   "execution_count": 44,
   "metadata": {},
   "outputs": [
    {
     "data": {
      "text/plain": [
       "False"
      ]
     },
     "execution_count": 44,
     "metadata": {},
     "output_type": "execute_result"
    }
   ],
   "source": [
    "def has_element_greater_than (z, l03):\n",
    "    for i in range(len(l03)):\n",
    "        if z < l03[i]:\n",
    "            return True\n",
    "    return False\n",
    "has_element_greater_than(3,[1,2,3])"
   ]
  },
  {
   "cell_type": "markdown",
   "metadata": {},
   "source": [
    "#### Extension 2\n",
    "Write a function 'get_random_list' that returns a list of random numbers. You can use `random.randint()` function to generate the random numbers. What should the parameters be?"
   ]
  },
  {
   "cell_type": "code",
   "execution_count": 56,
   "metadata": {},
   "outputs": [
    {
     "ename": "SyntaxError",
     "evalue": "invalid syntax (<ipython-input-56-08de9779b1db>, line 3)",
     "output_type": "error",
     "traceback": [
      "\u001b[1;36m  File \u001b[1;32m\"<ipython-input-56-08de9779b1db>\"\u001b[1;36m, line \u001b[1;32m3\u001b[0m\n\u001b[1;33m    random.randint(l06[],6)\u001b[0m\n\u001b[1;37m                       ^\u001b[0m\n\u001b[1;31mSyntaxError\u001b[0m\u001b[1;31m:\u001b[0m invalid syntax\n"
     ]
    }
   ],
   "source": [
    "import random\n",
    "def grlist (l06):\n",
    "    random.randint(l06[],6)\n",
    "    print(l06)\n",
    "grlist([1,2,3,4,5,6])    "
   ]
  },
  {
   "cell_type": "markdown",
   "metadata": {},
   "source": [
    "---\n",
    "---"
   ]
  },
  {
   "cell_type": "markdown",
   "metadata": {},
   "source": [
    "### Functions and Lists (Part 3)"
   ]
  },
  {
   "cell_type": "markdown",
   "metadata": {},
   "source": [
    "### The `sum` Function"
   ]
  },
  {
   "cell_type": "code",
   "execution_count": 41,
   "metadata": {},
   "outputs": [
    {
     "data": {
      "text/plain": [
       "10"
      ]
     },
     "execution_count": 41,
     "metadata": {},
     "output_type": "execute_result"
    }
   ],
   "source": [
    "my_list = [1,2,3,4]\n",
    "sum(my_list)"
   ]
  },
  {
   "cell_type": "markdown",
   "metadata": {},
   "source": [
    "What is the input and output of the `sum` function?\n",
    "\n",
    "How could we implement this?"
   ]
  },
  {
   "cell_type": "code",
   "execution_count": 44,
   "metadata": {},
   "outputs": [
    {
     "name": "stdout",
     "output_type": "stream",
     "text": [
      "[82, 41, 9, 11, 73, 24, 6, 23, 49, 84, 34, 61, 32, 19, 21, 20, 54, 89, 74, 57, 3, 79, 53, 86, 8, 4, 40, 33, 60, 52, 63, 7, 81, 15, 13, 16, 10, 42, 44, 97, 95, 2, 78, 70, 51, 55, 93, 59, 72, 22, 92, 38, 66, 87, 30, 94, 5, 56, 31, 91, 48, 68, 96, 77, 18, 27, 88, 35, 65, 1, 26, 99, 37, 90, 12, 98, 71, 43, 45, 46, 0, 25, 17, 29, 14, 83, 28, 36, 39, 69, 47, 76, 67, 58, 80, 50, 64, 75, 85, 62]\n",
      "4950\n"
     ]
    }
   ],
   "source": [
    "# to generate test cases, use the random.sample function\n",
    "import random\n",
    "my_test_list = random.sample(range(0, 100), 100)\n",
    "print(my_test_list)\n",
    "print(sum(my_test_list))"
   ]
  },
  {
   "cell_type": "markdown",
   "metadata": {},
   "source": [
    "### Exercise\n",
    "Implement the `my_sum` function."
   ]
  },
  {
   "cell_type": "code",
   "execution_count": 33,
   "metadata": {},
   "outputs": [
    {
     "data": {
      "text/plain": [
       "45"
      ]
     },
     "execution_count": 33,
     "metadata": {},
     "output_type": "execute_result"
    }
   ],
   "source": [
    "def sum01 (l04):\n",
    "    c = 0\n",
    "    for v in range(len(l04)):\n",
    "        c += l04[v]\n",
    "    return c\n",
    "sum01([1,2,3,4,5,6,7,8,9])"
   ]
  },
  {
   "cell_type": "markdown",
   "metadata": {},
   "source": [
    "#### Extension 1\n",
    "Suppose the list of integers are ages. Implement a function `sum_of_adult_ages` that sums only the ages of adults."
   ]
  },
  {
   "cell_type": "code",
   "execution_count": null,
   "metadata": {},
   "outputs": [],
   "source": []
  },
  {
   "cell_type": "markdown",
   "metadata": {},
   "source": [
    "#### Extension 2\n",
    "Suppose the list of integers are ages. Implement a function `sum_of_baby_ages` that sums only the ages of babies. Consider the baby age to be 0, 1, or 2."
   ]
  },
  {
   "cell_type": "code",
   "execution_count": null,
   "metadata": {},
   "outputs": [],
   "source": []
  },
  {
   "cell_type": "markdown",
   "metadata": {},
   "source": [
    "#### Extension 3\n",
    "Implement a function `number_of_ages_in_range` that takes a list of ages, a min age and max age as parameters and returns the total number of people between the min and max age.\n",
    "\n",
    "For example,\n",
    "```\n",
    "my_age_list = [1,2,3,4,5,6,7,8,9,10]\n",
    "print(number_of_ages_in_range(my_age_list, 5, 8))\n",
    "print(number_of_ages_in_range(my_age_list, 11, 100))\n",
    "```\n",
    "Should print out `4` and `0`."
   ]
  },
  {
   "cell_type": "code",
   "execution_count": null,
   "metadata": {},
   "outputs": [],
   "source": []
  },
  {
   "cell_type": "markdown",
   "metadata": {},
   "source": [
    "---\n",
    "---"
   ]
  },
  {
   "cell_type": "markdown",
   "metadata": {},
   "source": [
    "## Functions and Lists (Part 4)"
   ]
  },
  {
   "cell_type": "markdown",
   "metadata": {},
   "source": [
    "### The `max` and `min` Functions"
   ]
  },
  {
   "cell_type": "code",
   "execution_count": 47,
   "metadata": {},
   "outputs": [
    {
     "name": "stdout",
     "output_type": "stream",
     "text": [
      "4\n",
      "1\n"
     ]
    }
   ],
   "source": [
    "my_list = [1,2,3,4]\n",
    "print(max(my_list))\n",
    "print(min(my_list))"
   ]
  },
  {
   "cell_type": "markdown",
   "metadata": {},
   "source": [
    "- What's the input and output?"
   ]
  },
  {
   "cell_type": "markdown",
   "metadata": {},
   "source": [
    "### Exercise\n",
    "Implement the function `my_max`. Does it work if there are negative numbers in the list?"
   ]
  },
  {
   "cell_type": "code",
   "execution_count": 72,
   "metadata": {},
   "outputs": [
    {
     "data": {
      "text/plain": [
       "1"
      ]
     },
     "execution_count": 72,
     "metadata": {},
     "output_type": "execute_result"
    }
   ],
   "source": [
    "def max01(l08):\n",
    "    maxl = 0\n",
    "    for i in range (len(l08)):\n",
    "        if l08[i] >  maxl:\n",
    "            maxl = l08[i]\n",
    "    return maxl\n",
    "max01([3,2,9,6,1,8])\n",
    "\n",
    "# def min01(l09):\n",
    "#     minl = 1\n",
    "#     for o in range (len(l09)):\n",
    "#         if l09[o] <  minl:\n",
    "#             minl = l09[o]\n",
    "#     return minl\n",
    "# min01([3,2,9,6,1,8])  "
   ]
  },
  {
   "cell_type": "markdown",
   "metadata": {},
   "source": [
    "#### Extension\n",
    "Implement `my_max` so that it returns a list of the `k` largest elements, where `k` is a parameter."
   ]
  },
  {
   "cell_type": "code",
   "execution_count": 80,
   "metadata": {},
   "outputs": [
    {
     "data": {
      "text/plain": [
       "9"
      ]
     },
     "execution_count": 80,
     "metadata": {},
     "output_type": "execute_result"
    }
   ],
   "source": [
    "def max02(l10,k):\n",
    "    maxl = 0\n",
    "    for p in range(k):\n",
    "        for i in range (len(l10)):\n",
    "            if l10[i] >  maxl:\n",
    "                maxl = l10[i]\n",
    "        return maxl\n",
    "        l10.remove(l10[i])\n",
    "max02([3,2,9,6,1,8],3)        \n",
    "    "
   ]
  },
  {
   "cell_type": "code",
   "execution_count": null,
   "metadata": {},
   "outputs": [],
   "source": []
  }
 ],
 "metadata": {
  "kernelspec": {
   "display_name": "Python 3",
   "language": "python",
   "name": "python3"
  },
  "language_info": {
   "codemirror_mode": {
    "name": "ipython",
    "version": 3
   },
   "file_extension": ".py",
   "mimetype": "text/x-python",
   "name": "python",
   "nbconvert_exporter": "python",
   "pygments_lexer": "ipython3",
   "version": "3.8.3"
  }
 },
 "nbformat": 4,
 "nbformat_minor": 4
}
