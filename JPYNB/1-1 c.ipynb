{
 "cells": [
  {
   "cell_type": "code",
   "execution_count": 2,
   "metadata": {},
   "outputs": [
    {
     "name": "stdout",
     "output_type": "stream",
     "text": [
      "How many pounds of pork do you want to eat?:100\n",
      "How many bottles of water do you need per day?:100\n",
      "How many gallons of water do you want in the bottle?:100\n",
      "['100', '100', '100']\n"
     ]
    }
   ],
   "source": [
    "list1 = []\n",
    "a = input (\"How many pounds of pork do you want to eat?:\")\n",
    "list1.append(a)\n",
    "a = input (\"How many bottles of water do you need per day?:\")\n",
    "list1.append(a)\n",
    "a = input (\"How many gallons of water do you want in the bottle?:\")\n",
    "list1.append(a)\n",
    "print(list1)"
   ]
  },
  {
   "cell_type": "code",
   "execution_count": null,
   "metadata": {},
   "outputs": [],
   "source": []
  }
 ],
 "metadata": {
  "kernelspec": {
   "display_name": "Python 3",
   "language": "python",
   "name": "python3"
  },
  "language_info": {
   "codemirror_mode": {
    "name": "ipython",
    "version": 3
   },
   "file_extension": ".py",
   "mimetype": "text/x-python",
   "name": "python",
   "nbconvert_exporter": "python",
   "pygments_lexer": "ipython3",
   "version": "3.8.3"
  }
 },
 "nbformat": 4,
 "nbformat_minor": 4
}
