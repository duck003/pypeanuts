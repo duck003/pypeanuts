{
 "cells": [
  {
   "cell_type": "code",
   "execution_count": 6,
   "metadata": {},
   "outputs": [
    {
     "name": "stdout",
     "output_type": "stream",
     "text": [
      "Wow, it your cake\n",
      "Wow, enemy. Guys grab your gun, and ...... FIRE!\n",
      "Wow, enemy. Guys grab your gun, and ...... FIRE!\n",
      "Wow, enemy. Guys grab your gun, and ...... FIRE!\n"
     ]
    }
   ],
   "source": [
    "list1 = [\"duck\",\"bear\",\"cat\",\"goose\"]\n",
    "for i in range (len(list1)):\n",
    "    if list1[i] == \"duck\" :\n",
    "        print(\"Wow, it your cake\")\n",
    "    else:\n",
    "        print(\"Wow, enemy. Guys grab your gun, and ...... FIRE!\")"
   ]
  },
  {
   "cell_type": "code",
   "execution_count": null,
   "metadata": {},
   "outputs": [],
   "source": []
  }
 ],
 "metadata": {
  "kernelspec": {
   "display_name": "Python 3",
   "language": "python",
   "name": "python3"
  },
  "language_info": {
   "codemirror_mode": {
    "name": "ipython",
    "version": 3
   },
   "file_extension": ".py",
   "mimetype": "text/x-python",
   "name": "python",
   "nbconvert_exporter": "python",
   "pygments_lexer": "ipython3",
   "version": "3.8.3"
  }
 },
 "nbformat": 4,
 "nbformat_minor": 4
}
