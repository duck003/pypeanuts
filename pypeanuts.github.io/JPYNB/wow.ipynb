{
 "cells": [
  {
   "cell_type": "code",
   "execution_count": 7,
   "metadata": {},
   "outputs": [
    {
     "name": "stdout",
     "output_type": "stream",
     "text": [
      "How many pounds of pork do you want to eat?:0\n",
      "How many bottles of water do you need per day?:0\n",
      "How many gallons of water do you want in the bottle?:0\n",
      "['0', '0', '0']\n"
     ]
    }
   ],
   "source": [
    "list1 = []\n",
    "a = input (\"How many pounds of pork do you want to eat?:\")\n",
    "list1.append(a)\n",
    "a = input (\"How many bottles of water do you need per day?:\")\n",
    "list1.append(a)\n",
    "a = input (\"How many gallons of water do you want in the bottle?:\")\n",
    "list1.append(a)\n",
    "print(list1)\n"
   ]
  },
  {
   "cell_type": "code",
   "execution_count": 2,
   "metadata": {},
   "outputs": [
    {
     "name": "stdout",
     "output_type": "stream",
     "text": [
      "Hello  duck.\n",
      "Hello  bear.\n",
      "Hello  cat.\n"
     ]
    }
   ],
   "source": [
    "names= [\"duck\",\"bear\",\"cat\"]\n",
    "for encounter in range (3):\n",
    "    print(\"Hello\"+\"  \"+names[encounter]+\".\")"
   ]
  },
  {
   "cell_type": "code",
   "execution_count": 3,
   "metadata": {},
   "outputs": [
    {
     "name": "stdout",
     "output_type": "stream",
     "text": [
      "How many bars of chocolate bars can you eat?:2\n",
      "[2, 4, 6, 8, 10, 2, 2, 2, 2, 2]\n"
     ]
    }
   ],
   "source": [
    "x = input(\"How many bars of chocolate bars can you eat?:\")\n",
    "L = [int(x)*1,int(x)*2,int(x)*3,int(x)*4,int(x)*5]\n",
    "for i in range(5):\n",
    "    L.append(int(x))\n",
    "print(L)"
   ]
  },
  {
   "cell_type": "code",
   "execution_count": 4,
   "metadata": {},
   "outputs": [
    {
     "name": "stdout",
     "output_type": "stream",
     "text": [
      "Wow, it your cake\n",
      "Wow, enemy. Guys grab your gun, and ...... FIRE!\n",
      "Wow, enemy. Guys grab your gun, and ...... FIRE!\n",
      "Wow, enemy. Guys grab your gun, and ...... FIRE!\n"
     ]
    }
   ],
   "source": [
    "list1 = [\"duck\",\"bear\",\"cat\",\"goose\"]\n",
    "for i in range (len(list1)):\n",
    "    if list1[i] == \"duck\" :\n",
    "        print(\"Wow, it your cake\")\n",
    "    else:\n",
    "        print(\"Wow, enemy. Guys grab your gun, and ...... FIRE!\")"
   ]
  },
  {
   "cell_type": "code",
   "execution_count": null,
   "metadata": {},
   "outputs": [],
   "source": []
  }
 ],
 "metadata": {
  "kernelspec": {
   "display_name": "Python 3",
   "language": "python",
   "name": "python3"
  },
  "language_info": {
   "codemirror_mode": {
    "name": "ipython",
    "version": 3
   },
   "file_extension": ".py",
   "mimetype": "text/x-python",
   "name": "python",
   "nbconvert_exporter": "python",
   "pygments_lexer": "ipython3",
   "version": "3.8.3"
  }
 },
 "nbformat": 4,
 "nbformat_minor": 4
}
